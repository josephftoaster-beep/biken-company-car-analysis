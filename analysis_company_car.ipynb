{
 "cells": [
  {
   "cell_type": "code",
   "execution_count": null,
   "id": "da5b2810",
   "metadata": {},
   "outputs": [
    {
     "data": {
      "text/plain": [
       "['ご予約リスト_202509051720.csv',\n",
       " 'ご予約リスト_202509101336.csv',\n",
       " 'ご予約リスト_202509131648.csv',\n",
       " 'ご予約リスト_202509140830.csv',\n",
       " 'ご予約リスト_202509210830.csv',\n",
       " 'ご予約リスト_202509280830.csv',\n",
       " 'ご予約リスト_202510050830.csv']"
      ]
     },
     "execution_count": 1,
     "metadata": {},
     "output_type": "execute_result"
    }
   ],
   "source": [
    "import pandas as pd\n",
    "from datetime import datetime,date\n",
    "from glob import glob\n",
    "import sys\n",
    "import matplotlib.pyplot as plt\n",
    "import seaborn as sns\n",
    "import japanize_matplotlib\n",
    "\n",
    "# 各社有車の稼働時間のまとめ\n",
    "\n",
    "### 目的\n",
    "## 社員が予約した内容から社有車の稼働時間を算出するための元データとしてまとめる\n",
    "## 一つのデータフレームにまとめ、重複したデータは削除する。\n",
    "\n",
    "yoyaku_fail_list = glob('ご予約リスト_*.csv')\n",
    "for \n",
    "\n",
    "\n",
    "\n",
    "\n",
    "\n",
    "\n",
    "\n",
    "\n",
    "\n"
   ]
  }
 ],
 "metadata": {
  "kernelspec": {
   "display_name": "Python 3",
   "language": "python",
   "name": "python3"
  },
  "language_info": {
   "codemirror_mode": {
    "name": "ipython",
    "version": 3
   },
   "file_extension": ".py",
   "mimetype": "text/x-python",
   "name": "python",
   "nbconvert_exporter": "python",
   "pygments_lexer": "ipython3",
   "version": "3.13.3"
  }
 },
 "nbformat": 4,
 "nbformat_minor": 5
}
